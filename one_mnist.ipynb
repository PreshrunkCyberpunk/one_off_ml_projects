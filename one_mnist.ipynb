{
 "cells": [
  {
   "cell_type": "code",
   "execution_count": 2,
   "id": "ac3409e7-35bd-4839-b199-ccc112286902",
   "metadata": {},
   "outputs": [],
   "source": [
    "import pandas as pd\n",
    "import numpy as np\n",
    "import torch\n",
    "import torchvision\n",
    "import matplotlib.pyplot as plt\n",
    "from torchvision import transforms\n",
    "import torch.nn as nn\n",
    "import torch.nn.functional as f\n",
    "from tqdm import trange\n",
    "from torch import optim"
   ]
  },
  {
   "cell_type": "code",
   "execution_count": 3,
   "id": "754f1327-6ac7-4a40-8881-2b248bf919cf",
   "metadata": {},
   "outputs": [],
   "source": [
    "device = ('cuda' if torch.cuda.is_available() == True else 'cpu')"
   ]
  },
  {
   "cell_type": "code",
   "execution_count": 4,
   "id": "0f4c300e-f2f0-4580-9339-7295d9ec5a68",
   "metadata": {},
   "outputs": [],
   "source": [
    "file_path = r\"C:\\Users\\Asus\\Documents\\Aeronautical Engineering\\Programming\\my_ml_projects\\datasets\"\n",
    "\n",
    "data = torchvision.datasets.MNIST(file_path, download=False, train=True, transform=transforms.ToTensor())\n",
    "data_test = torchvision.datasets.MNIST(file_path, download=False, train=False, transform=transforms.ToTensor())"
   ]
  },
  {
   "cell_type": "code",
   "execution_count": 13,
   "id": "6cc2330f-3fda-44d7-8719-9768a669a8f2",
   "metadata": {},
   "outputs": [],
   "source": [
    "train_loader = torch.utils.data.DataLoader(data, batch_size=64, shuffle=True)"
   ]
  },
  {
   "cell_type": "code",
   "execution_count": 15,
   "id": "35399f7a-1b39-40b2-aa81-337619a64e4e",
   "metadata": {},
   "outputs": [],
   "source": [
    "class Net(torch.nn.Module):\n",
    "    def __init__(self):\n",
    "        super(Net, self).__init__()\n",
    "        self.l1 = nn.Linear(28*28, 128)\n",
    "        self.l2 = nn.Linear(128, 10)\n",
    "        self.sm = nn.LogSoftmax(dim=1)\n",
    "    def forward(self, x):\n",
    "        x = f.relu(self.l1(x))\n",
    "        x = self.l2(x)\n",
    "        x = self.sm(x)\n",
    "        return x"
   ]
  },
  {
   "cell_type": "code",
   "execution_count": 20,
   "id": "2117c4ca-2ab2-4df3-8b02-ebe0f8b7aeff",
   "metadata": {},
   "outputs": [],
   "source": [
    "def training_loop(n_epochs, optimizer, model, loss_fn, train_loader):\n",
    "    losses, accuracies = [], []\n",
    "    for epoch in (t := trange(n_epochs)):\n",
    "        loss_train = 0.0\n",
    "        for imgs, labels in train_loader:\n",
    "            imgs = imgs.to(device=device)\n",
    "            labels = labels.to(device=device)\n",
    "            labels = labels.long()\n",
    "            imgs = imgs.view(-1, 28*28)\n",
    "            out = model(imgs)\n",
    "            cat = torch.argmax(out, dim=1)\n",
    "            cat = cat.view(-1).float()\n",
    "            acc = (cat == labels).float().mean()\n",
    "            loss = loss_fn(out, labels)\n",
    "            optimizer.zero_grad()\n",
    "            loss.backward()\n",
    "            optimizer.step()\n",
    "        losses.append(loss.to(device='cpu'))\n",
    "        accuracies.append(acc.to(device='cpu'))\n",
    "    l = list()\n",
    "    for i in losses:\n",
    "        l.append(i.detach().numpy())\n",
    "    plt.plot(np.array(accuracies))\n",
    "    plt.plot(np.array(l))\n",
    "    plt.ylim(0, 1.1)"
   ]
  },
  {
   "cell_type": "code",
   "execution_count": 21,
   "id": "881d5fa5-2435-4ff2-9bda-68d4a0fe2581",
   "metadata": {},
   "outputs": [
    {
     "name": "stderr",
     "output_type": "stream",
     "text": [
      "100%|████████████████████████████████████████████████████████████████████████████| 1000/1000 [1:46:26<00:00,  6.39s/it]\n"
     ]
    },
    {
     "data": {
      "image/png": "[encoded data removed]",
      "text/plain": [
       "<Figure size 432x288 with 1 Axes>"
      ]
     },
     "metadata": {
      "needs_background": "light"
     },
     "output_type": "display_data"
    }
   ],
   "source": [
    "model = Net().to(device=device)\n",
    "optimizer = optim.SGD(model.parameters(), lr = 1e-3)\n",
    "loss_fn = nn.NLLLoss()\n",
    "\n",
    "training_loop(n_epochs=1000, optimizer=optimizer, model=model,\n",
    "             loss_fn=loss_fn, train_loader=train_loader)"
   ]
  },
  {
   "cell_type": "code",
   "execution_count": 22,
   "id": "36199895-7d4a-461b-8d8f-6f4e59be0ed4",
   "metadata": {},
   "outputs": [
    {
     "name": "stdout",
     "output_type": "stream",
     "text": [
      "Accuracy train: 98.67\n",
      "59200 60000\n",
      "Accuracy val: 97.46\n",
      "9746 10000\n"
     ]
    }
   ],
   "source": [
    "val_loader = torch.utils.data.DataLoader(data_test, batch_size=64, shuffle=False)\n",
    "\n",
    "def validate(model, train_loader, val_loader):\n",
    "    for name, loader in [('train', train_loader), ('val', val_loader)]:\n",
    "        correct = 0\n",
    "        total = 0\n",
    "        \n",
    "        with torch.no_grad():\n",
    "            for imgs, labels in loader:\n",
    "                imgs = imgs.to(device=device)\n",
    "                labels = labels.to(device=device)\n",
    "                imgs = imgs.view(-1, 28*28)\n",
    "                outputs = model(imgs)\n",
    "                _, predicted = torch.max(outputs, dim=1)\n",
    "                total += labels.shape[0]\n",
    "                correct += int((predicted == labels).sum())\n",
    "\n",
    "        print(\"Accuracy {}: {:.2f}\".format(name, correct/total * 100))\n",
    "        print(correct, total)\n",
    "        \n",
    "validate(model, train_loader, val_loader)"
   ]
  }
 ],
 "metadata": {
  "kernelspec": {
   "display_name": "Python 3",
   "language": "python",
   "name": "python3"
  },
  "language_info": {
   "codemirror_mode": {
    "name": "ipython",
    "version": 3
   },
   "file_extension": ".py",
   "mimetype": "text/x-python",
   "name": "python",
   "nbconvert_exporter": "python",
   "pygments_lexer": "ipython3",
   "version": "3.9.2"
  }
 },
 "nbformat": 4,
 "nbformat_minor": 5
}
